{
 "cells": [
  {
   "cell_type": "markdown",
   "metadata": {},
   "source": [
    "## ['We', 'are', 'learning', 'about', 'lists', 'today!']"
   ]
  },
  {
   "cell_type": "markdown",
   "metadata": {},
   "source": [
    "A list is a kind of _data structure_. Basically, this means that it organizes a bunch of things into a single thing.\n",
    "\n",
    "1. Can you make a list called `alist` by typing a bunch of **strings** inside square brackets (`[]`), and placing a comma after each string?"
   ]
  },
  {
   "cell_type": "code",
   "execution_count": null,
   "metadata": {},
   "outputs": [],
   "source": [
    "# Remember variables? \n",
    "# Hint: alist = ..."
   ]
  },
  {
   "cell_type": "markdown",
   "metadata": {},
   "source": [
    "2. Now, create a list called `rainbow` by typing the color names of the rainbow (in order) inside square brackets, just like above."
   ]
  },
  {
   "cell_type": "code",
   "execution_count": null,
   "metadata": {},
   "outputs": [],
   "source": []
  },
  {
   "cell_type": "markdown",
   "metadata": {},
   "source": [
    "3. If you already know where something is in a list, you can grab it! For example, this code will print the 2nd color of the rainbow:"
   ]
  },
  {
   "cell_type": "code",
   "execution_count": null,
   "metadata": {},
   "outputs": [],
   "source": [
    "print(rainbow[1])"
   ]
  },
  {
   "cell_type": "markdown",
   "metadata": {},
   "source": [
    "4. Try grabbing the color violet:"
   ]
  },
  {
   "cell_type": "code",
   "execution_count": null,
   "metadata": {},
   "outputs": [],
   "source": []
  },
  {
   "cell_type": "markdown",
   "metadata": {},
   "source": [
    "As you might have noticed, `0` grabs the 1st thing, `1` grabs the 2nd thing, etc.\n",
    "\n",
    "(You'll get used to this one day.)\n",
    "\n",
    "There is another way you can grab the last thing in a list. Can you Google __\"Getting the last element of a list\"__?\n",
    "\n",
    "5. Using your Google search, can you grab the color violet with the new way?"
   ]
  },
  {
   "cell_type": "code",
   "execution_count": null,
   "metadata": {},
   "outputs": [],
   "source": []
  },
  {
   "cell_type": "markdown",
   "metadata": {},
   "source": [
    "You can use functions (like `print`) called `list` and `reversed` to reverse a list. \n",
    "\n",
    "Check out https://stackoverflow.com/questions/3940128/how-can-i-reverse-a-list-in-python.\n",
    "\n",
    "6. Reverse your rainbow, and put it in a variable called `rainbow_backwards`:"
   ]
  },
  {
   "cell_type": "code",
   "execution_count": null,
   "metadata": {},
   "outputs": [],
   "source": []
  },
  {
   "cell_type": "markdown",
   "metadata": {},
   "source": [
    "7. From your reversed rainbow, can you grab the color violet again?"
   ]
  },
  {
   "cell_type": "code",
   "execution_count": null,
   "metadata": {},
   "outputs": [],
   "source": []
  },
  {
   "cell_type": "markdown",
   "metadata": {},
   "source": [
    "Now `for` some fun!\n",
    "\n",
    "8. Run the following `turtle` graphics code:"
   ]
  },
  {
   "cell_type": "code",
   "execution_count": null,
   "metadata": {
    "scrolled": true
   },
   "outputs": [],
   "source": [
    "from turtle import *\n",
    "colormode(255)\n",
    "panel = Screen()\n",
    "w = 400\n",
    "h = 400\n",
    "panel.setup(width=w, height=h) \n",
    "\n",
    "for color in rainbow_backwards:\n",
    "    fillcolor(color)\n",
    "    begin_fill()\n",
    "    circle(80)\n",
    "    end_fill()"
   ]
  },
  {
   "cell_type": "markdown",
   "metadata": {},
   "source": [
    "9. Could you explain what `for color in rainbow_backwards:` did?"
   ]
  },
  {
   "cell_type": "markdown",
   "metadata": {},
   "source": [
    "Type here"
   ]
  },
  {
   "cell_type": "markdown",
   "metadata": {},
   "source": [
    "10. In just 2 lines of code, print the color names of the rainbow:"
   ]
  },
  {
   "cell_type": "code",
   "execution_count": null,
   "metadata": {},
   "outputs": [],
   "source": []
  },
  {
   "cell_type": "markdown",
   "metadata": {},
   "source": [
    "Run the below code to check your answers:"
   ]
  },
  {
   "cell_type": "code",
   "execution_count": null,
   "metadata": {},
   "outputs": [],
   "source": [
    "assert type(alist) == type([])\n",
    "assert len(rainbow) == 7\n",
    "assert rainbow == list(reversed(rainbow_backwards))\n",
    "print('Good job!')"
   ]
  }
 ],
 "metadata": {
  "kernelspec": {
   "display_name": "Python 3",
   "language": "python",
   "name": "python3"
  },
  "language_info": {
   "codemirror_mode": {
    "name": "ipython",
    "version": 3
   },
   "file_extension": ".py",
   "mimetype": "text/x-python",
   "name": "python",
   "nbconvert_exporter": "python",
   "pygments_lexer": "ipython3",
   "version": "3.8.5"
  }
 },
 "nbformat": 4,
 "nbformat_minor": 4
}
