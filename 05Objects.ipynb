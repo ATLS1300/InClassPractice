{
 "cells": [
  {
   "cell_type": "markdown",
   "metadata": {},
   "source": [
    "# Making code more readable and usable"
   ]
  },
  {
   "cell_type": "markdown",
   "metadata": {},
   "source": [
    "**Instructions** <br>\n",
    "To step through each cell (highlighted box) use SHIFT + ENTER. This keystroke will also run code. You have done the exercise correctly when **no error text shows up** after you run a cell."
   ]
  },
  {
   "cell_type": "markdown",
   "metadata": {},
   "source": [
    "**Part 1**: There are two types of functions in the code snippet below. Two functions work with **turtles**, and two functions work with **strings**:"
   ]
  },
  {
   "cell_type": "code",
   "execution_count": 52,
   "metadata": {},
   "outputs": [],
   "source": [
    "from turtle import Turtle, Screen\n",
    "import random\n",
    "\n",
    "def circle(turt, color, size):\n",
    "    turt.up()\n",
    "    turt.goto(100,100)\n",
    "\n",
    "    turt.down()\n",
    "    turt.color(color)\n",
    "    turt.begin_fill()\n",
    "    turt.circle(size)\n",
    "    turt.end_fill()\n",
    "    \n",
    "    panel.mainloop()\n",
    "    \n",
    "\n",
    "def greetUser(name):\n",
    "    print(\"Hi, %s!\"%name)\n",
    "    \n",
    "    \n",
    "def zigzag(turt, distance):\n",
    "    panel = Screen()\n",
    "    panel.setup(width=400, height=400) \n",
    "\n",
    "    turt.up()\n",
    "    turt.goto(0,0)\n",
    "    turt.down()\n",
    "    turt.goto(0, distance)\n",
    "    turt.goto(-distance, distance)\n",
    "    turt.goto(-distance, 2*distance)\n",
    "    \n",
    "    panel.mainloop()\n",
    "    \n",
    "\n",
    "def byeUser(name):\n",
    "    print(\"Goodbye, %s!\"%name)\n",
    "    "
   ]
  },
  {
   "cell_type": "markdown",
   "metadata": {},
   "source": [
    "This code isn't very organized, because related functions should be written together.\n",
    "\n",
    "1. Group all turtle-related functions by creating a class called MyTurtle, then turn the functions into methods of MyTurtle. Remember, methods need to have *self* as the first parameter."
   ]
  },
  {
   "cell_type": "code",
   "execution_count": null,
   "metadata": {},
   "outputs": [],
   "source": [
    "class MyTurtle:\n",
    "    ... # replace this ellipse with your code!"
   ]
  },
  {
   "cell_type": "markdown",
   "metadata": {},
   "source": [
    "2. Group all string-related functions by creating a class called MyString, then turning the functions into methods of MyString. "
   ]
  },
  {
   "cell_type": "code",
   "execution_count": null,
   "metadata": {},
   "outputs": [],
   "source": [
    "class MyString:\n",
    "    ..."
   ]
  },
  {
   "cell_type": "markdown",
   "metadata": {},
   "source": [
    "3. Create a turtle called `snake`, then make it zig-zag using your MyTurtle method.<br>\n",
    "For this, you'll have to pass arguments into the method, just as you would a function.:"
   ]
  },
  {
   "cell_type": "code",
   "execution_count": null,
   "metadata": {},
   "outputs": [],
   "source": []
  },
  {
   "cell_type": "markdown",
   "metadata": {},
   "source": [
    "4. Print \"Goodbye, (YOUR NAME)!\" below using your `MyString.byeUser()` method:"
   ]
  },
  {
   "cell_type": "code",
   "execution_count": null,
   "metadata": {},
   "outputs": [],
   "source": []
  },
  {
   "cell_type": "markdown",
   "metadata": {},
   "source": [
    "**Part 2:** In the English language, sentences typically start with the subject, then a verb (\"My turtle zig-zags.\" rather than \"Zig-zags, does my turtle\"). \n",
    "\n",
    "Wouldn't it be neat to make your programs more readable by following similar rules? "
   ]
  },
  {
   "cell_type": "markdown",
   "metadata": {},
   "source": [
    "5. The `__init__` method allows you to implement the subject-verb rule by turning _parameters_ into _class attributes_. Copy and paste the MyTurtle class below. Then, create an `__init__` method for MyTurtle, which should attach a parameter called `turt` to `self`."
   ]
  },
  {
   "cell_type": "code",
   "execution_count": null,
   "metadata": {},
   "outputs": [],
   "source": []
  },
  {
   "cell_type": "markdown",
   "metadata": {},
   "source": [
    "6. In the above cell, remove the `turt` parameter from your `zigzag` method. Then, change each line of code to use the `self.turt` attribute, instead of the `turt` parameter."
   ]
  },
  {
   "cell_type": "markdown",
   "metadata": {},
   "source": [
    "7. Below, create an instance of MyTurtle called `cute_turt` by first creating a turtle called `snake`, and calling `cute_turt = MyTurtle(snake)`."
   ]
  },
  {
   "cell_type": "code",
   "execution_count": null,
   "metadata": {},
   "outputs": [],
   "source": []
  },
  {
   "cell_type": "markdown",
   "metadata": {},
   "source": [
    "8. Make `cute_turt` zigzag:"
   ]
  },
  {
   "cell_type": "code",
   "execution_count": null,
   "metadata": {},
   "outputs": [],
   "source": []
  }
 ],
 "metadata": {
  "kernelspec": {
   "display_name": "Python 3",
   "language": "python",
   "name": "python3"
  },
  "language_info": {
   "codemirror_mode": {
    "name": "ipython",
    "version": 3
   },
   "file_extension": ".py",
   "mimetype": "text/x-python",
   "name": "python",
   "nbconvert_exporter": "python",
   "pygments_lexer": "ipython3",
   "version": "3.7.4"
  }
 },
 "nbformat": 4,
 "nbformat_minor": 4
}
