{
 "cells": [
  {
   "cell_type": "markdown",
   "metadata": {},
   "source": [
    "# Making code more readable and usable"
   ]
  },
  {
   "cell_type": "markdown",
   "metadata": {},
   "source": [
    "**Part 1**: In the following code, two functions have to do with turtles, and two other functions have to do with strings:"
   ]
  },
  {
   "cell_type": "code",
   "execution_count": 52,
   "metadata": {},
   "outputs": [],
   "source": [
    "from turtle import Turtle, Screen\n",
    "import random\n",
    "\n",
    "def circle(turt, color, size):\n",
    "    turt.up()\n",
    "    turt.goto(100,100)\n",
    "\n",
    "    turt.down()\n",
    "    turt.color(color)\n",
    "    turt.begin_fill()\n",
    "    turt.circle(size)\n",
    "    turt.end_fill()\n",
    "    \n",
    "    panel.mainloop()\n",
    "    \n",
    "\n",
    "def greetUser(name):\n",
    "    print(\"Hi, %s!\"%name)\n",
    "    \n",
    "    \n",
    "def zigzag(turt, distance):\n",
    "    panel = Screen()\n",
    "    panel.setup(width=400, height=400) \n",
    "\n",
    "    turt.up()\n",
    "    turt.goto(0,0)\n",
    "    turt.down()\n",
    "    turt.goto(0, distance)\n",
    "    turt.goto(-distance, distance)\n",
    "    turt.goto(-distance, 2*distance)\n",
    "    \n",
    "    panel.mainloop()\n",
    "    \n",
    "\n",
    "def byeUser(name):\n",
    "    print(\"Goodbye, %s!\"%name)\n",
    "    "
   ]
  },
  {
   "cell_type": "markdown",
   "metadata": {},
   "source": [
    "This code isn't very organized, because related functions should be written together.\n",
    "\n",
    "1. Group all turtle-related functions by creating a class called MyTurtle, then turning the functions into methods of MyTurtle."
   ]
  },
  {
   "cell_type": "code",
   "execution_count": null,
   "metadata": {},
   "outputs": [],
   "source": [
    "class MyTurtle:\n",
    "    ..."
   ]
  },
  {
   "cell_type": "markdown",
   "metadata": {},
   "source": [
    "2. Group all string-related functions by creating a class called MyString, then turning the functions into methods of MyString. "
   ]
  },
  {
   "cell_type": "code",
   "execution_count": null,
   "metadata": {},
   "outputs": [],
   "source": [
    "class MyString:\n",
    "    ..."
   ]
  },
  {
   "cell_type": "markdown",
   "metadata": {},
   "source": [
    "3. Create a turtle called `snake`, then make it zig-zag using your MyTurtle method:"
   ]
  },
  {
   "cell_type": "code",
   "execution_count": null,
   "metadata": {},
   "outputs": [],
   "source": []
  },
  {
   "cell_type": "markdown",
   "metadata": {},
   "source": [
    "4. Print \"Goodbye, (your  name)!\" below using your `MyString.byeUser()` method:"
   ]
  },
  {
   "cell_type": "code",
   "execution_count": null,
   "metadata": {},
   "outputs": [],
   "source": []
  },
  {
   "cell_type": "markdown",
   "metadata": {},
   "source": [
    "**Part 2:** In the English language, sentences typically start with the subject, then a verb (\"My turtle zig-zags.\" rather than \"Zig-zags, does my turtle\"). \n",
    "\n",
    "Wouldn't it be neat to make your programs more readable by following similar rules? "
   ]
  },
  {
   "cell_type": "markdown",
   "metadata": {},
   "source": [
    "5. The `__init__` method allows you to implement the subject-verb rule by turning _parameters_ into _class attributes_. Copy and paste your MyTurtle class below. Then, create an `__init__` method for MyTurtle, which should attach a parameter called `turt` to `self`."
   ]
  },
  {
   "cell_type": "code",
   "execution_count": null,
   "metadata": {},
   "outputs": [],
   "source": []
  },
  {
   "cell_type": "markdown",
   "metadata": {},
   "source": [
    "6. In the above cell, remove the `turt` parameter from your `zigzag` method. Then, change each line of code to use the `self.turt` attribute, instead of the `turt` parameter."
   ]
  },
  {
   "cell_type": "markdown",
   "metadata": {},
   "source": [
    "7. Below, create an instance of MyTurtle called `cute_turt` by first creating a turtle called `snake`, and calling `cute_turt = MyTurtle(snake)`."
   ]
  },
  {
   "cell_type": "code",
   "execution_count": null,
   "metadata": {},
   "outputs": [],
   "source": []
  },
  {
   "cell_type": "markdown",
   "metadata": {},
   "source": [
    "8. Make `cute_turt` zigzag:"
   ]
  },
  {
   "cell_type": "code",
   "execution_count": null,
   "metadata": {},
   "outputs": [],
   "source": []
  }
 ],
 "metadata": {
  "kernelspec": {
   "display_name": "Python 3",
   "language": "python",
   "name": "python3"
  },
  "language_info": {
   "codemirror_mode": {
    "name": "ipython",
    "version": 3
   },
   "file_extension": ".py",
   "mimetype": "text/x-python",
   "name": "python",
   "nbconvert_exporter": "python",
   "pygments_lexer": "ipython3",
   "version": "3.8.5"
  }
 },
 "nbformat": 4,
 "nbformat_minor": 4
}
