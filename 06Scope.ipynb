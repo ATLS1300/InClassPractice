{
 "cells": [
  {
   "cell_type": "markdown",
   "metadata": {},
   "source": [
    "# The Life of $\\pi$"
   ]
  },
  {
   "cell_type": "markdown",
   "metadata": {},
   "source": [
    "**Part 1:** The following code approximates $\\pi$:"
   ]
  },
  {
   "cell_type": "code",
   "execution_count": 9,
   "metadata": {},
   "outputs": [],
   "source": [
    "import math\n",
    "\n",
    "pi = 0\n",
    "\n",
    "def approx_pi():\n",
    "    pi = 20 * math.atan(1/7) + 8 * math.atan(3/79)"
   ]
  },
  {
   "cell_type": "markdown",
   "metadata": {},
   "source": [
    "1. What is `pi` after calling `approx_pi()`? Why?"
   ]
  },
  {
   "cell_type": "code",
   "execution_count": 10,
   "metadata": {},
   "outputs": [],
   "source": [
    "approx_pi()"
   ]
  },
  {
   "cell_type": "code",
   "execution_count": null,
   "metadata": {},
   "outputs": [],
   "source": []
  },
  {
   "cell_type": "markdown",
   "metadata": {},
   "source": [
    "2. Modify the above code so that `approx_pi` works:"
   ]
  },
  {
   "cell_type": "code",
   "execution_count": null,
   "metadata": {},
   "outputs": [],
   "source": []
  },
  {
   "cell_type": "code",
   "execution_count": null,
   "metadata": {},
   "outputs": [],
   "source": []
  },
  {
   "cell_type": "markdown",
   "metadata": {},
   "source": [
    "**Part 2:** So far, we've worked a lot with `global` variables when we want to modify data that's outside of a function."
   ]
  },
  {
   "cell_type": "markdown",
   "metadata": {},
   "source": [
    "But we can accomplish the same thing by using class attributes instead. In the below code, `addColor()` prompts the user for a color name, and adds it to the `color_palette` list:"
   ]
  },
  {
   "cell_type": "code",
   "execution_count": 4,
   "metadata": {},
   "outputs": [],
   "source": [
    "color_palette = []\n",
    "\n",
    "def addColor():\n",
    "    '''\n",
    "    Adds a color to color_palette\n",
    "    '''\n",
    "    global color_palette\n",
    "    new_color = input(\"Type in your favorite color: \")\n",
    "    color_palette.append(new_color)\n",
    "    \n",
    "def removeColor(color):\n",
    "    '''\n",
    "    Removes a color from color_palette\n",
    "    '''\n",
    "    global color_palette\n",
    "    color_palette.remove(color)"
   ]
  },
  {
   "cell_type": "markdown",
   "metadata": {},
   "source": [
    "3. (Review) add a color to color_palette using `addColor()`."
   ]
  },
  {
   "cell_type": "code",
   "execution_count": null,
   "metadata": {},
   "outputs": [],
   "source": []
  },
  {
   "cell_type": "markdown",
   "metadata": {},
   "source": [
    "4. Re-work the above code by creating a class called `ColorPalette` with:\n",
    "\n",
    "- an empty list (`[]`) attribute called `palette`, and \n",
    "\n",
    "- two methods called `add` and `remove`.\n",
    "\n",
    "Instead of using `global color_palette`, each method should use modify your new `palette` attribute."
   ]
  },
  {
   "cell_type": "code",
   "execution_count": null,
   "metadata": {},
   "outputs": [],
   "source": []
  },
  {
   "cell_type": "markdown",
   "metadata": {},
   "source": [
    "5. Create a `ColorPalette` object called `rainbow`, then add the seven colors of the rainbow to `rainbow.palette` by calling `rainbow.add(yourColorName)` seven times:"
   ]
  },
  {
   "cell_type": "code",
   "execution_count": null,
   "metadata": {},
   "outputs": [],
   "source": []
  },
  {
   "cell_type": "markdown",
   "metadata": {},
   "source": [
    "6. Print the colors of the rainbow by simply printing `rainbow.palette`:"
   ]
  },
  {
   "cell_type": "code",
   "execution_count": null,
   "metadata": {},
   "outputs": [],
   "source": []
  },
  {
   "cell_type": "code",
   "execution_count": null,
   "metadata": {},
   "outputs": [],
   "source": []
  }
 ],
 "metadata": {
  "kernelspec": {
   "display_name": "Python 3",
   "language": "python",
   "name": "python3"
  },
  "language_info": {
   "codemirror_mode": {
    "name": "ipython",
    "version": 3
   },
   "file_extension": ".py",
   "mimetype": "text/x-python",
   "name": "python",
   "nbconvert_exporter": "python",
   "pygments_lexer": "ipython3",
   "version": "3.8.5"
  }
 },
 "nbformat": 4,
 "nbformat_minor": 4
}
