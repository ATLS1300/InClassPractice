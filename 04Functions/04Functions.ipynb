{
 "cells": [
  {
   "cell_type": "markdown",
   "metadata": {},
   "source": [
    "# Reusing your code ♻"
   ]
  },
  {
   "cell_type": "markdown",
   "metadata": {},
   "source": [
    "When programming, you'll often find yourself writing the same things over and over:"
   ]
  },
  {
   "cell_type": "code",
   "execution_count": 22,
   "metadata": {},
   "outputs": [],
   "source": [
    "from turtle import *\n",
    "import random\n",
    "colormode(255)\n",
    "speed(50)\n",
    "\n",
    "panel = Screen()\n",
    "panel.setup(width=700, height=700) \n",
    "\n",
    "\n",
    "# Move to -100, -100 and draw a small purple circle\n",
    "up()\n",
    "goto(-100,-100)\n",
    "\n",
    "down()\n",
    "color(\"purple\")\n",
    "begin_fill()\n",
    "circle(100)\n",
    "end_fill()\n",
    "\n",
    "\n",
    "# Move to 100, 100 and draw another small purple circle\n",
    "up()\n",
    "goto(100,100)\n",
    "\n",
    "down()\n",
    "color(\"purple\")\n",
    "begin_fill()\n",
    "circle(100)\n",
    "end_fill()\n"
   ]
  },
  {
   "cell_type": "markdown",
   "metadata": {},
   "source": [
    "1. The below code creates a *function* called `makePurpleCircle`. It doesn't do anything for now. Under its name, copy and paste the part of the above code that is repetitive."
   ]
  },
  {
   "cell_type": "code",
   "execution_count": null,
   "metadata": {},
   "outputs": [],
   "source": [
    "def makePurpleCircle():\n",
    "    ..."
   ]
  },
  {
   "cell_type": "markdown",
   "metadata": {},
   "source": [
    "2. \"Call\" your new function twice, by simply writing `makePurpleCircle()` twice in different lines."
   ]
  },
  {
   "cell_type": "code",
   "execution_count": null,
   "metadata": {},
   "outputs": [],
   "source": []
  },
  {
   "cell_type": "markdown",
   "metadata": {},
   "source": [
    "#### What if you change your mind and want to create <span style=\"color:purple\">a purple circle</span>, <span style=\"color:blue\">a blue circle</span>, and <span style=\"color:red\">a red circle</span>? \n",
    "\n",
    "3. Still no need to repeat yourself. The below code creates a function called `makeCircle`, which takes in a `color_name` variable. Copy and paste the above code again, but which line would you change now?"
   ]
  },
  {
   "cell_type": "code",
   "execution_count": null,
   "metadata": {},
   "outputs": [],
   "source": [
    "def makeCircle(color_name):\n",
    "    ..."
   ]
  },
  {
   "cell_type": "markdown",
   "metadata": {},
   "source": [
    "4. Test your new function by writing `makeCircle('blue')`."
   ]
  },
  {
   "cell_type": "code",
   "execution_count": null,
   "metadata": {},
   "outputs": [],
   "source": []
  },
  {
   "cell_type": "markdown",
   "metadata": {},
   "source": [
    "5. A function can have any number of variables. Re-define `makeCircle` by allowing the circle's size to be also changed."
   ]
  },
  {
   "cell_type": "code",
   "execution_count": null,
   "metadata": {},
   "outputs": [],
   "source": [
    "def makeCircle(color_name, size):\n",
    "    ..."
   ]
  },
  {
   "cell_type": "markdown",
   "metadata": {},
   "source": [
    "6. Test `makeCircle` again, using your favorite color and a favorite number:"
   ]
  },
  {
   "cell_type": "code",
   "execution_count": null,
   "metadata": {},
   "outputs": [],
   "source": []
  },
  {
   "cell_type": "markdown",
   "metadata": {},
   "source": [
    "7. Lastly, define a function named `makeSquare()`. Inside the function, first write pseudocode (in comments) as to how the turtle should draw a square. Finish up by writing the rest of the function, and calling it."
   ]
  },
  {
   "cell_type": "code",
   "execution_count": null,
   "metadata": {},
   "outputs": [],
   "source": []
  },
  {
   "cell_type": "markdown",
   "metadata": {},
   "source": [
    "#### Awesome! Now that you know what functions are, you can use them regularly to keep your code short and readable."
   ]
  }
 ],
 "metadata": {
  "kernelspec": {
   "display_name": "Python 3",
   "language": "python",
   "name": "python3"
  },
  "language_info": {
   "codemirror_mode": {
    "name": "ipython",
    "version": 3
   },
   "file_extension": ".py",
   "mimetype": "text/x-python",
   "name": "python",
   "nbconvert_exporter": "python",
   "pygments_lexer": "ipython3",
   "version": "3.8.5"
  }
 },
 "nbformat": 4,
 "nbformat_minor": 4
}
