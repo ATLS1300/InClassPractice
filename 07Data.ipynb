{
 "cells": [
  {
   "cell_type": "markdown",
   "metadata": {},
   "source": [
    "# How to make sense of data in Python"
   ]
  },
  {
   "cell_type": "markdown",
   "metadata": {},
   "source": [
    "### _Part 1: Accessing data using dictionaries_"
   ]
  },
  {
   "cell_type": "markdown",
   "metadata": {},
   "source": [
    "Many APIs will return JSON data files, which are easily converted into Python dictionaries with tools like `import requests`."
   ]
  },
  {
   "cell_type": "markdown",
   "metadata": {},
   "source": [
    "#### a. Opening a website\n",
    "The `requests.get` function opens a website, just like your browser does. Run the below code:"
   ]
  },
  {
   "cell_type": "code",
   "execution_count": null,
   "metadata": {},
   "outputs": [],
   "source": [
    "import requests\n",
    "\n",
    "URL = 'http://api.citybik.es/v2/networks/boulder'\n",
    "requests.get(URL)"
   ]
  },
  {
   "cell_type": "markdown",
   "metadata": {},
   "source": [
    "#### b. Getting the data \n",
    "\n",
    "The 200 Response indicates that you successfully opened the website. \n",
    "\n",
    "However, we still have to retrive the data *inside this response* by using `json()`:"
   ]
  },
  {
   "cell_type": "code",
   "execution_count": null,
   "metadata": {},
   "outputs": [],
   "source": [
    "# Just run this code\n",
    "data = requests.get(URL).json()\n",
    "\n",
    "data"
   ]
  },
  {
   "cell_type": "markdown",
   "metadata": {},
   "source": [
    "#### c. Again, this is doing basically the same thing as your browser \n",
    "Open http://api.citybik.es/v2/networks/boulder in your web browser, and compare the response with the above output."
   ]
  },
  {
   "cell_type": "markdown",
   "metadata": {},
   "source": [
    "#### d. Keys to the data values \n",
    "Inspect the structure of the data by getting its keys:"
   ]
  },
  {
   "cell_type": "code",
   "execution_count": null,
   "metadata": {},
   "outputs": [],
   "source": [
    "# Just run this code\n",
    "data = requests.get(URL).json()\n",
    "data.keys()"
   ]
  },
  {
   "cell_type": "markdown",
   "metadata": {},
   "source": [
    "### Practice 1. \n",
    "How many keys are there in this dataset?"
   ]
  },
  {
   "cell_type": "code",
   "execution_count": null,
   "metadata": {},
   "outputs": [],
   "source": [
    "# Type answer below\n"
   ]
  },
  {
   "cell_type": "markdown",
   "metadata": {},
   "source": [
    "### Practice 2. \n",
    "Isolate the values of the `'network'` data by accessing it using square brackets:"
   ]
  },
  {
   "cell_type": "code",
   "execution_count": null,
   "metadata": {},
   "outputs": [],
   "source": [
    "# Replace the ellipsis below with your answer\n",
    "network = data[...]"
   ]
  },
  {
   "cell_type": "markdown",
   "metadata": {},
   "source": [
    "### Practice 3.\n",
    "Now, how many keys are there inside the `network` data?"
   ]
  },
  {
   "cell_type": "code",
   "execution_count": null,
   "metadata": {},
   "outputs": [],
   "source": [
    "# Type answer below\n"
   ]
  },
  {
   "cell_type": "markdown",
   "metadata": {},
   "source": [
    "### Practice 4.\n",
    "Isolate the list of `'stations'`, using square brackets, and store it in a new variable called `stations`:"
   ]
  },
  {
   "cell_type": "code",
   "execution_count": null,
   "metadata": {},
   "outputs": [],
   "source": [
    "# Type answer below\n"
   ]
  },
  {
   "cell_type": "markdown",
   "metadata": {},
   "source": [
    "### _Part 2: Visualizing data_"
   ]
  },
  {
   "cell_type": "markdown",
   "metadata": {},
   "source": [
    "Your vis code should always follow this pattern:\n",
    "\n",
    "* Step 1. __Load__ the entire dataset from your API endpoint\n",
    "\n",
    "* Step 2. __Isolate__ (in separate lists) the most interesting parts of the dataset\n",
    "\n",
    "* Step 3. __Map__ each list to a visual variable (size, color, etc.)\n",
    "\n",
    "The following code (supposedly) creates a dot plot of expected temperatures this week. \n",
    "\n",
    "#### a. Read and understand what's going on in terms of the above steps:"
   ]
  },
  {
   "cell_type": "code",
   "execution_count": null,
   "metadata": {},
   "outputs": [],
   "source": [
    "# Just read & run this code (you might have to run it multiple times for it to work)\n",
    "\n",
    "import turtle, requests\n",
    "turtle.colormode(255)\n",
    "\n",
    "t = turtle.Turtle(shape='circle')\n",
    "t.up()\n",
    "\n",
    "panel_width = 400\n",
    "panel_height = 400\n",
    "panel = turtle.Screen()\n",
    "panel.setup(width=panel_width, height=panel_height) \n",
    "\n",
    "\n",
    "class BikeMap:\n",
    "    def __init__(self,panel):\n",
    "        \n",
    "        # Step 1.\n",
    "        self.data = self.loadData()\n",
    "        \n",
    "        # Step 2.\n",
    "        self.latitudes = self.getLatitudes()\n",
    "        self.longitudes = self.getLongitudes()\n",
    "        self.free_bikes = self.getFreeBikes()\n",
    "\n",
    "        # For use in step 3.\n",
    "        self.color = (255,0,0)\n",
    "    \n",
    "    \n",
    "    # 1. Load the entire dataset\n",
    "    def loadData(self):\n",
    "        URL = 'http://api.citybik.es/v2/networks/boulder'\n",
    "        data = requests.get(URL).json()\n",
    "        return data['network']['stations']\n",
    "\n",
    "    \n",
    "    # 2. Isolate specific parts of the dataset\n",
    "    def getLatitudes(self):\n",
    "        latitudes = []\n",
    "        for d in self.data:\n",
    "            latitudes.append(d['latitude'])\n",
    "        \n",
    "        return latitudes\n",
    "\n",
    "    def getLongitudes(self):\n",
    "        longitudes = []\n",
    "        for d in self.data:\n",
    "            longitudes.append(d['longitude'])\n",
    "        \n",
    "        return longitudes\n",
    "\n",
    "    def getFreeBikes(self):\n",
    "        free_bikes = []\n",
    "        for d in self.data:\n",
    "            free_bikes.append(d['free_bikes'])\n",
    "        \n",
    "        return free_bikes\n",
    "    \n",
    "    \n",
    "    # 3. Draw vis\n",
    "    def drawCirc(self):\n",
    "        for i in range(len(self.data)):\n",
    "            t.color(self.color)\n",
    "            t.goto((self.latitudes[i], self.longitudes[i]))\n",
    "            t.shapesize(self.free_bikes[i])\n",
    "    \n",
    "            t.stamp()\n",
    "        \n",
    "            \n",
    "# Actually draw it below\n",
    "bubble = BikeMap(panel)\n",
    "bubble.drawCirc()\n",
    "    \n",
    "panel.exitonclick()"
   ]
  },
  {
   "cell_type": "markdown",
   "metadata": {},
   "source": [
    "The above code _should_ have mapped each bike station to its coordinates, and the size of each dot should correspond to the number of bikes in that station. \n",
    "\n",
    "#### Question 1.\n",
    "However, what you got is one large circle. What do you think happened?"
   ]
  },
  {
   "cell_type": "code",
   "execution_count": null,
   "metadata": {},
   "outputs": [],
   "source": [
    "# Type answer below"
   ]
  },
  {
   "cell_type": "markdown",
   "metadata": {},
   "source": [
    "#### Practice. \n",
    "\n",
    "Visualizing data involves selecting visual variables (size, shape, etc.) that will *express* an interesting dataset, and then doing so *effectively*. \n",
    "\n",
    "For instance, the dot sizes here are too large that the largest dot occludes the smaller dots.\n",
    "\n",
    "In order to overcome the above problem, you need to rescale your data to have visually appropriate values. The below code illustrates how to do this using `import numpy as np`. \n",
    "\n",
    "First, read & understand what's going on in the `getLatitudes` function. Then, fill in the `getLongitudes` and `getFreeBikes` functions to rescale your data in a similar way."
   ]
  },
  {
   "cell_type": "code",
   "execution_count": null,
   "metadata": {},
   "outputs": [],
   "source": [
    "# (Once you're done, you might have to run this code multiple times for it to work)\n",
    "\n",
    "import numpy as np\n",
    "import turtle, requests\n",
    "turtle.colormode(255)\n",
    "\n",
    "t = turtle.Turtle(shape='circle')\n",
    "t.up()\n",
    "\n",
    "\n",
    "panel_width = 400\n",
    "panel_height = 400\n",
    "panel = turtle.Screen()\n",
    "panel.setup(width=panel_width, height=panel_height) \n",
    "\n",
    "\n",
    "class BikeMap:\n",
    "    def __init__(self,panel):\n",
    "\n",
    "        self.data = self.loadData()\n",
    "\n",
    "        self.latitudes = self.getLatitudes()\n",
    "        self.longitudes = self.getLongitudes()\n",
    "        self.free_bikes = self.getFreeBikes()\n",
    "\n",
    "        self.color = (255,0,0)\n",
    "    \n",
    "    \n",
    "    def loadData(self):\n",
    "        URL = 'http://api.citybik.es/v2/networks/boulder'\n",
    "        data = requests.get(URL).json()\n",
    "        return data['network']['stations']\n",
    "\n",
    "    \n",
    "    # READ THIS UPDATED FUNCTION\n",
    "    def getLatitudes(self):\n",
    "        latitudes = []\n",
    "        for d in self.data:\n",
    "            latitudes.append(d['latitude'])\n",
    "        \n",
    "        # Get the range of your latitudes data\n",
    "        minD = min(latitudes)\n",
    "        maxD = max(latitudes)\n",
    "        \n",
    "        # Get the range of your panel\n",
    "        minWidth = -panel_width/2\n",
    "        maxWidth = panel_width/2\n",
    "            \n",
    "        # Return a scaled version of latitudes by \n",
    "        # mapping the minimum data point to the minimum panel width,\n",
    "        # and mapping the maximum data point to the maximum panel width\n",
    "        return np.interp(latitudes, (minD, maxD), (minWidth, maxWidth))\n",
    "\n",
    "    \n",
    "    # WRITE CODE HERE\n",
    "    def getLongitudes(self):\n",
    "        longitudes = []\n",
    "        for d in self.data:\n",
    "            longitudes.append(d['longitude'])\n",
    "        \n",
    "        # HINT: Do the same as the above function, except with longitudes\n",
    "        minD = ...\n",
    "        maxD = ...\n",
    "        \n",
    "        minHeight = ...\n",
    "        maxHeight = ...\n",
    "        \n",
    "        return np.interp(longitudes, (minD, maxD), (minHeight, maxHeight))\n",
    "\n",
    "    \n",
    "    # WRITE CODE HERE\n",
    "    def getFreeBikes(self):\n",
    "        free_bikes = []\n",
    "        for d in self.data:\n",
    "            free_bikes.append(d['free_bikes'])\n",
    "\n",
    "        ...\n",
    "        # HINT: height and width don't matter for this one, just find the appropriate min/max dot size\n",
    "            \n",
    "        return ...\n",
    "    \n",
    "    \n",
    "    # Don't mind this code\n",
    "    def drawCirc(self):\n",
    "        for i in range(len(self.data)):\n",
    "            t.color(self.color)\n",
    "            t.goto((self.latitudes[i], self.longitudes[i]))\n",
    "            t.shapesize(self.free_bikes[i])\n",
    "    \n",
    "            t.stamp()\n",
    "        \n",
    "            \n",
    "            \n",
    "bubble = BikeMap(panel)\n",
    "bubble.drawCirc()\n",
    "    \n",
    "panel.exitonclick()\n"
   ]
  },
  {
   "cell_type": "code",
   "execution_count": null,
   "metadata": {},
   "outputs": [],
   "source": []
  }
 ],
 "metadata": {
  "kernelspec": {
   "display_name": "Python 3",
   "language": "python",
   "name": "python3"
  },
  "language_info": {
   "codemirror_mode": {
    "name": "ipython",
    "version": 3
   },
   "file_extension": ".py",
   "mimetype": "text/x-python",
   "name": "python",
   "nbconvert_exporter": "python",
   "pygments_lexer": "ipython3",
   "version": "3.8.5"
  }
 },
 "nbformat": 4,
 "nbformat_minor": 4
}
